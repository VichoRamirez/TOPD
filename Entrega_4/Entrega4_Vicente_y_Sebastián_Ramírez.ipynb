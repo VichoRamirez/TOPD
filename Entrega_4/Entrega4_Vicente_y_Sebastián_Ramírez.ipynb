{
 "cells": [
  {
   "cell_type": "markdown",
   "id": "089ae2a0",
   "metadata": {},
   "source": [
    "# <p style=\"text-align:center;\"> **Entrega 4 - Ruta B**</p>\n",
    "### <p style=\"text-align:center;\"> *Sebastián y Vicente Ramírez*</p>\n",
    "### <p style=\"text-align:center;\"> **Apertura y limpieza de datasets**</p>\n",
    "#### Librerías a usar"
   ]
  },
  {
   "cell_type": "code",
   "execution_count": 2,
   "id": "3c191c5d",
   "metadata": {},
   "outputs": [],
   "source": [
    "# !pip install prince # En caso de ser necesario\n",
    "from sklearn.decomposition import PCA\n",
    "from sklearn.preprocessing import OneHotEncoder\n",
    "from sklearn.model_selection import train_test_split\n",
    "from sklearn.tree import DecisionTreeRegressor, plot_tree\n",
    "from sklearn.metrics import mean_squared_error, r2_score, mean_absolute_error\n",
    "from sklearn.dummy import DummyRegressor\n",
    "import numpy as np\n",
    "import matplotlib.pyplot as plt\n",
    "import pandas as pd\n",
    "import seaborn as sns\n",
    "import scipy as sp\n",
    "import itertools as it\n",
    "import prince\n",
    "import warnings\n",
    "\n",
    "# Para una visualización más limpia (esta parte del código se corre con todo estructurado\n",
    "# para evitar ignorar los warnings necesarios durante el proceso de desarrollo)\n",
    "# warnings.filterwarnings(\"ignore\")\n",
    "\n",
    "# Configuración pandas\n",
    "pd.set_option('display.max_columns', None)\n",
    "pd.set_option(\"max_info_columns\", 200)"
   ]
  },
  {
   "cell_type": "markdown",
   "id": "686bf360",
   "metadata": {},
   "source": [
    "#### Apertura de los dataset\n",
    "> Incluye:\n",
    "> > - grd_2023 (datos principales).\n",
    "> > - CIE-10 (para diagnósticos).\n",
    "> > - Hospitales (para decodificarlos).\n",
    "> > - GRD (Para todos los diagnósticos)."
   ]
  },
  {
   "cell_type": "code",
   "execution_count": 3,
   "id": "e810b373",
   "metadata": {},
   "outputs": [
    {
     "name": "stdout",
     "output_type": "stream",
     "text": [
      "<class 'pandas.core.frame.DataFrame'>\n",
      "RangeIndex: 1039587 entries, 0 to 1039586\n",
      "Data columns (total 16 columns):\n",
      " #   Column               Non-Null Count    Dtype         \n",
      "---  ------               --------------    -----         \n",
      " 0   COD_HOSPITAL         1039587 non-null  int64         \n",
      " 1   CIP_ENCRIPTADO       1037952 non-null  float64       \n",
      " 2   SEXO                 1039548 non-null  object        \n",
      " 3   FECHA_NACIMIENTO     1039577 non-null  datetime64[ns]\n",
      " 4   SERVICIO_SALUD       1038846 non-null  object        \n",
      " 5   TIPO_INGRESO         1039532 non-null  object        \n",
      " 6   FECHA_INGRESO        1039587 non-null  datetime64[ns]\n",
      " 7   FECHAALTA            1039587 non-null  datetime64[ns]\n",
      " 8   TIPOALTA             1039587 non-null  object        \n",
      " 9   DIAGNOSTICO1         1039587 non-null  object        \n",
      " 10  IR_29301_COD_GRD     1039557 non-null  float64       \n",
      " 11  IR_29301_PESO        1039557 non-null  float64       \n",
      " 12  IR_29301_SEVERIDAD   1039557 non-null  float64       \n",
      " 13  IR_29301_MORTALIDAD  1039557 non-null  float64       \n",
      " 14  EDAD                 1039577 non-null  float64       \n",
      " 15  DIAS_ESTANCIA        1039587 non-null  int64         \n",
      "dtypes: datetime64[ns](3), float64(6), int64(2), object(5)\n",
      "memory usage: 126.9+ MB\n"
     ]
    },
    {
     "data": {
      "text/plain": [
       "None"
      ]
     },
     "metadata": {},
     "output_type": "display_data"
    },
    {
     "name": "stdout",
     "output_type": "stream",
     "text": [
      "<class 'pandas.core.frame.DataFrame'>\n",
      "RangeIndex: 1039587 entries, 0 to 1039586\n",
      "Data columns (total 129 columns):\n",
      " #    Column                    Non-Null Count    Dtype         \n",
      "---   ------                    --------------    -----         \n",
      " 0    COD_HOSPITAL              1039587 non-null  int64         \n",
      " 1    CIP_ENCRIPTADO            1039587 non-null  object        \n",
      " 2    SEXO                      1039587 non-null  object        \n",
      " 3    FECHA_NACIMIENTO          1039577 non-null  datetime64[ns]\n",
      " 4    ETNIA                     1039587 non-null  object        \n",
      " 5    PROVINCIA                 1039587 non-null  object        \n",
      " 6    COMUNA                    1039587 non-null  object        \n",
      " 7    NACIONALIDAD              1039587 non-null  object        \n",
      " 8    PREVISION                 1039587 non-null  object        \n",
      " 9    SERVICIO_SALUD            1039587 non-null  object        \n",
      " 10   TIPO_PROCEDENCIA          1039587 non-null  object        \n",
      " 11   TIPO_INGRESO              1039587 non-null  object        \n",
      " 12   ESPECIALIDAD_MEDICA       1039587 non-null  object        \n",
      " 13   TIPO_ACTIVIDAD            1039587 non-null  object        \n",
      " 14   FECHA_INGRESO             1039587 non-null  datetime64[ns]\n",
      " 15   SERVICIOINGRESO           1039587 non-null  object        \n",
      " 16   FECHATRASLADO1            166839 non-null   datetime64[ns]\n",
      " 17   SERVICIOTRASLADO1         166839 non-null   object        \n",
      " 18   FECHATRASLADO2            55092 non-null    object        \n",
      " 19   SERVICIOTRASLADO2         55092 non-null    object        \n",
      " 20   FECHATRASLADO3            16253 non-null    object        \n",
      " 21   SERVICIOTRASLADO3         16253 non-null    object        \n",
      " 22   FECHATRASLADO4            5820 non-null     object        \n",
      " 23   SERVICIOTRASLADO4         5820 non-null     object        \n",
      " 24   FECHATRASLADO5            2279 non-null     object        \n",
      " 25   SERVICIOTRASLADO5         2279 non-null     object        \n",
      " 26   FECHATRASLADO6            1021 non-null     object        \n",
      " 27   SERVICIOTRASLADO6         1021 non-null     object        \n",
      " 28   FECHATRASLADO7            513 non-null      object        \n",
      " 29   SERVICIOTRASLADO7         513 non-null      object        \n",
      " 30   FECHATRASLADO8            302 non-null      object        \n",
      " 31   SERVICIOTRASLADO8         302 non-null      object        \n",
      " 32   FECHATRASLADO9            179 non-null      object        \n",
      " 33   SERVICIOTRASLADO9         179 non-null      object        \n",
      " 34   FECHAALTA                 1039587 non-null  datetime64[ns]\n",
      " 35   SERVICIOALTA              1039587 non-null  object        \n",
      " 36   TIPOALTA                  1039587 non-null  object        \n",
      " 37   CONDICIONDEALTANEONATO1   0 non-null        float64       \n",
      " 38   PESORN1                   131217 non-null   float64       \n",
      " 39   SEXORN1                   106733 non-null   object        \n",
      " 40   RN1ESTADO                 107743 non-null   float64       \n",
      " 41   CONDICIONDEALTANEONATO2   0 non-null        float64       \n",
      " 42   PESORN2                   1395 non-null     float64       \n",
      " 43   SEXORN2                   1395 non-null     object        \n",
      " 44   RN2ESTADO                 1395 non-null     float64       \n",
      " 45   CONDICIONDEALTANEONATO3   0 non-null        float64       \n",
      " 46   PESORN3                   13 non-null       float64       \n",
      " 47   SEXORN3                   13 non-null       object        \n",
      " 48   RN3ESTADO                 13 non-null       float64       \n",
      " 49   CONDICIONDEALTANEONATO4   0 non-null        float64       \n",
      " 50   PESORN4                   0 non-null        float64       \n",
      " 51   SEXORN4                   0 non-null        float64       \n",
      " 52   RN4ESTADO                 0 non-null        float64       \n",
      " 53   DIAGNOSTICO1              1039587 non-null  object        \n",
      " 54   DIAGNOSTICO2              905878 non-null   object        \n",
      " 55   DIAGNOSTICO3              771294 non-null   object        \n",
      " 56   DIAGNOSTICO4              640639 non-null   object        \n",
      " 57   DIAGNOSTICO5              514446 non-null   object        \n",
      " 58   DIAGNOSTICO6              405709 non-null   object        \n",
      " 59   DIAGNOSTICO7              316638 non-null   object        \n",
      " 60   DIAGNOSTICO8              245373 non-null   object        \n",
      " 61   DIAGNOSTICO9              189772 non-null   object        \n",
      " 62   DIAGNOSTICO10             147276 non-null   object        \n",
      " 63   DIAGNOSTICO11             114811 non-null   object        \n",
      " 64   DIAGNOSTICO12             90045 non-null    object        \n",
      " 65   DIAGNOSTICO13             70869 non-null    object        \n",
      " 66   DIAGNOSTICO14             55968 non-null    object        \n",
      " 67   DIAGNOSTICO15             44450 non-null    object        \n",
      " 68   DIAGNOSTICO16             35369 non-null    object        \n",
      " 69   DIAGNOSTICO17             28277 non-null    object        \n",
      " 70   DIAGNOSTICO18             22659 non-null    object        \n",
      " 71   DIAGNOSTICO19             18210 non-null    object        \n",
      " 72   DIAGNOSTICO20             14571 non-null    object        \n",
      " 73   DIAGNOSTICO21             11708 non-null    object        \n",
      " 74   DIAGNOSTICO22             9527 non-null     object        \n",
      " 75   DIAGNOSTICO23             7731 non-null     object        \n",
      " 76   DIAGNOSTICO24             6249 non-null     object        \n",
      " 77   DIAGNOSTICO25             5083 non-null     object        \n",
      " 78   DIAGNOSTICO26             4107 non-null     object        \n",
      " 79   DIAGNOSTICO27             3351 non-null     object        \n",
      " 80   DIAGNOSTICO28             2750 non-null     object        \n",
      " 81   DIAGNOSTICO29             2213 non-null     object        \n",
      " 82   DIAGNOSTICO30             1794 non-null     object        \n",
      " 83   DIAGNOSTICO31             1445 non-null     object        \n",
      " 84   DIAGNOSTICO32             1163 non-null     object        \n",
      " 85   DIAGNOSTICO33             944 non-null      object        \n",
      " 86   DIAGNOSTICO34             749 non-null      object        \n",
      " 87   DIAGNOSTICO35             522 non-null      object        \n",
      " 88   PROCEDIMIENTO1            1039415 non-null  float64       \n",
      " 89   PROCEDIMIENTO2            955762 non-null   float64       \n",
      " 90   PROCEDIMIENTO3            865073 non-null   float64       \n",
      " 91   PROCEDIMIENTO4            781632 non-null   float64       \n",
      " 92   PROCEDIMIENTO5            703378 non-null   float64       \n",
      " 93   PROCEDIMIENTO6            626149 non-null   float64       \n",
      " 94   PROCEDIMIENTO7            548608 non-null   float64       \n",
      " 95   PROCEDIMIENTO8            472274 non-null   float64       \n",
      " 96   PROCEDIMIENTO9            399524 non-null   float64       \n",
      " 97   PROCEDIMIENTO10           333611 non-null   float64       \n",
      " 98   PROCEDIMIENTO11           276246 non-null   float64       \n",
      " 99   PROCEDIMIENTO12           228820 non-null   float64       \n",
      " 100  PROCEDIMIENTO13           189773 non-null   float64       \n",
      " 101  PROCEDIMIENTO14           158300 non-null   float64       \n",
      " 102  PROCEDIMIENTO15           133295 non-null   float64       \n",
      " 103  PROCEDIMIENTO16           112875 non-null   float64       \n",
      " 104  PROCEDIMIENTO17           96107 non-null    float64       \n",
      " 105  PROCEDIMIENTO18           82577 non-null    object        \n",
      " 106  PROCEDIMIENTO19           71188 non-null    float64       \n",
      " 107  PROCEDIMIENTO20           61682 non-null    float64       \n",
      " 108  PROCEDIMIENTO21           53683 non-null    float64       \n",
      " 109  PROCEDIMIENTO22           46826 non-null    float64       \n",
      " 110  PROCEDIMIENTO23           41008 non-null    float64       \n",
      " 111  PROCEDIMIENTO24           35875 non-null    float64       \n",
      " 112  PROCEDIMIENTO25           31320 non-null    float64       \n",
      " 113  PROCEDIMIENTO26           27507 non-null    float64       \n",
      " 114  PROCEDIMIENTO27           24030 non-null    float64       \n",
      " 115  PROCEDIMIENTO28           21042 non-null    float64       \n",
      " 116  PROCEDIMIENTO29           18426 non-null    float64       \n",
      " 117  PROCEDIMIENTO30           16011 non-null    float64       \n",
      " 118  MEDICOINTERV1_ENCRIPTADO  599515 non-null   float64       \n",
      " 119  FECHAPROCEDIMIENTO1       0 non-null        float64       \n",
      " 120  FECHAINTERV1              528813 non-null   datetime64[ns]\n",
      " 121  ESPECIALIDADINTERVENCION  598860 non-null   object        \n",
      " 122  MEDICOALTA_ENCRIPTADO     1039587 non-null  int64         \n",
      " 123  USOSPABELLON              635381 non-null   float64       \n",
      " 124  IR_29301_COD_GRD          1039557 non-null  float64       \n",
      " 125  IR_29301_PESO             1039557 non-null  float64       \n",
      " 126  IR_29301_SEVERIDAD        1039557 non-null  float64       \n",
      " 127  IR_29301_MORTALIDAD       1039557 non-null  float64       \n",
      " 128  HOSPPROCEDENCIA           140126 non-null   object        \n",
      "dtypes: datetime64[ns](5), float64(49), int64(2), object(73)\n",
      "memory usage: 1023.2+ MB\n"
     ]
    },
    {
     "data": {
      "text/plain": [
       "None"
      ]
     },
     "metadata": {},
     "output_type": "display_data"
    }
   ],
   "source": [
    "# Lectura de archivos .csv y .xlsx\n",
    "hospitales = pd.read_csv(\"./datasets/Hospitales.csv\", header=None, sep=\"|\")\n",
    "cie = pd.read_excel(\"./datasets/CIE-10.xlsx\")\n",
    "grd = pd.read_parquet(\"./datasets/grd_2023.parquet\")\n",
    "grd_big = pd.read_parquet(\"./datasets/GRD.parquet\")\n",
    "\n",
    "\n",
    "display(grd.info())\n",
    "display(grd_big.info())"
   ]
  },
  {
   "cell_type": "markdown",
   "id": "765edf36",
   "metadata": {},
   "source": [
    "#### Transformaciones de columnas"
   ]
  },
  {
   "cell_type": "code",
   "execution_count": 4,
   "id": "c02969be",
   "metadata": {},
   "outputs": [],
   "source": [
    "# Para dejar como flotante CIP_ENCRIPTADO\n",
    "def transformar(row):\n",
    "    if row == \"DESCONOCIDO\":\n",
    "        return np.nan\n",
    "    return row\n",
    "\n",
    "# Para decodificar los 10 diagnósticos\n",
    "diagnostico = dict(zip(cie[\"Código\"], cie[\"Descripción\"]))\n",
    "\n",
    "# Para decodificar hospitales\n",
    "hospital = dict(zip(hospitales[0], hospitales[1]))\n",
    "\n",
    "# Ajustar tipós de variable por columna para futuro merge\n",
    "grd_big[\"CIP_ENCRIPTADO\"] = grd_big[\"CIP_ENCRIPTADO\"].apply(transformar)\n",
    "grd_big[\"CIP_ENCRIPTADO\"] = grd_big[\"CIP_ENCRIPTADO\"].astype(float)\n",
    "grd[\"FECHA_NACIMIENTO\"] = grd[\"FECHA_NACIMIENTO\"].astype('datetime64[ns]')\n",
    "grd[\"FECHA_INGRESO\"] = grd[\"FECHA_INGRESO\"].astype('datetime64[ns]')\n",
    "grd[\"FECHAALTA\"] = grd[\"FECHAALTA\"].astype('datetime64[ns]')\n",
    "\n",
    "# Columans a eliminar por indice (Ver output anterior)\n",
    "out = list(grd_big.columns[6:9]) + \\\n",
    "      list(grd_big.columns[10:11]) + \\\n",
    "      list(grd_big.columns[[4, 12, 13, 35]]) + \\\n",
    "      list(grd_big.columns[15:34]) + list(grd_big.columns[37:53]) + list(grd_big.columns[54:])\n",
    "\n",
    "grd_big.drop(columns = out, axis = 1, inplace = True)"
   ]
  },
  {
   "cell_type": "markdown",
   "id": "1b0ae4f8",
   "metadata": {},
   "source": [
    "#### Merge de todos los datasets\n",
    "> En el siguiente orden\n",
    "> > 1. (grd  $\\xleftrightarrow{merge}$  grd_main) $\\rightarrow$ df | (Para tener todos los diagnósticos).\n",
    "> > 2. df.map(diagnosticos) | para tener los diagnósticos en descripción. (hacerlo con las 10 columans)\n",
    "> > 2. df.map(hospital) | Decodificar hospitales. Dataset completo."
   ]
  },
  {
   "cell_type": "code",
   "execution_count": 5,
   "id": "520294ff",
   "metadata": {},
   "outputs": [
    {
     "name": "stdout",
     "output_type": "stream",
     "text": [
      "<class 'pandas.core.frame.DataFrame'>\n",
      "RangeIndex: 1041229 entries, 0 to 1041228\n",
      "Data columns (total 17 columns):\n",
      " #   Column               Non-Null Count    Dtype         \n",
      "---  ------               --------------    -----         \n",
      " 0   CIP_ENCRIPTADO       1039590 non-null  float64       \n",
      " 1   SEXO                 1041190 non-null  object        \n",
      " 2   FECHA_NACIMIENTO     1041219 non-null  datetime64[ns]\n",
      " 3   SERVICIO_SALUD       1040488 non-null  object        \n",
      " 4   TIPO_INGRESO         1041174 non-null  object        \n",
      " 5   FECHA_INGRESO        1041229 non-null  datetime64[ns]\n",
      " 6   FECHAALTA            1041229 non-null  datetime64[ns]\n",
      " 7   TIPOALTA             1041229 non-null  object        \n",
      " 8   IR_29301_COD_GRD     1041199 non-null  float64       \n",
      " 9   IR_29301_PESO        1041199 non-null  float64       \n",
      " 10  IR_29301_SEVERIDAD   1041199 non-null  float64       \n",
      " 11  IR_29301_MORTALIDAD  1041199 non-null  float64       \n",
      " 12  EDAD                 1041219 non-null  float64       \n",
      " 13  DIAS_ESTANCIA        1041229 non-null  int64         \n",
      " 14  PROVINCIA            1040394 non-null  object        \n",
      " 15  DESCRIPCION1         1041197 non-null  object        \n",
      " 16  HOSPITAL             1041229 non-null  object        \n",
      "dtypes: datetime64[ns](3), float64(6), int64(1), object(7)\n",
      "memory usage: 135.0+ MB\n"
     ]
    }
   ],
   "source": [
    "df = grd.merge(grd_big, how = \"left\")\n",
    "\n",
    "df['DESCRIPCION1'] = df[\"DIAGNOSTICO1\"].map(diagnostico)\n",
    "df.drop(columns = \"DIAGNOSTICO1\", axis = 1, inplace = True)\n",
    "\n",
    "df[\"HOSPITAL\"] = df[\"COD_HOSPITAL\"].map(hospital)\n",
    "df.drop(columns = \"COD_HOSPITAL\", axis = 1, inplace = True)\n",
    "df.info()"
   ]
  },
  {
   "cell_type": "markdown",
   "id": "d5b085c5",
   "metadata": {},
   "source": [
    "#### Variable \"REINGRESO\"\n",
    "> 1. Eliminar los CIP_ENCRIPTADO nulos\n",
    "> > Si no se sabe que paciente entró, no es posible analizar de manera corercta tal variable. Además, son menos de 1500 valores nulos dentro de más de un millon de datos, por ende, no es una cantidad significativa.\n",
    "> 2. Ordenar por fecha el dataset.\n",
    "> > La función \"duplicated\" revisa el dataset por orden de registro, y el este no está ordenado por fecha de ingreso, por lo que aplicar directamente la función podría generar un reingreso antes de la primera atención.\n",
    "> 3. Crear columna REINGRESO\n",
    "> > Aplicando duplicated a la columna CIP_ENCRIPTADO, generando una columna de datos booleanos"
   ]
  },
  {
   "cell_type": "code",
   "execution_count": 6,
   "id": "9337c991",
   "metadata": {},
   "outputs": [
    {
     "name": "stdout",
     "output_type": "stream",
     "text": [
      "<class 'pandas.core.frame.DataFrame'>\n",
      "RangeIndex: 1039590 entries, 0 to 1039589\n",
      "Data columns (total 18 columns):\n",
      " #   Column               Non-Null Count    Dtype         \n",
      "---  ------               --------------    -----         \n",
      " 0   CIP_ENCRIPTADO       1039590 non-null  float64       \n",
      " 1   SEXO                 1039551 non-null  object        \n",
      " 2   FECHA_NACIMIENTO     1039580 non-null  datetime64[ns]\n",
      " 3   SERVICIO_SALUD       1038851 non-null  object        \n",
      " 4   TIPO_INGRESO         1039535 non-null  object        \n",
      " 5   FECHA_INGRESO        1039590 non-null  datetime64[ns]\n",
      " 6   FECHAALTA            1039590 non-null  datetime64[ns]\n",
      " 7   TIPOALTA             1039590 non-null  object        \n",
      " 8   IR_29301_COD_GRD     1039560 non-null  float64       \n",
      " 9   IR_29301_PESO        1039560 non-null  float64       \n",
      " 10  IR_29301_SEVERIDAD   1039560 non-null  float64       \n",
      " 11  IR_29301_MORTALIDAD  1039560 non-null  float64       \n",
      " 12  EDAD                 1039580 non-null  float64       \n",
      " 13  DIAS_ESTANCIA        1039590 non-null  int64         \n",
      " 14  PROVINCIA            1038757 non-null  object        \n",
      " 15  DESCRIPCION1         1039558 non-null  object        \n",
      " 16  HOSPITAL             1039590 non-null  object        \n",
      " 17  REINGRESO            1039590 non-null  bool          \n",
      "dtypes: bool(1), datetime64[ns](3), float64(6), int64(1), object(7)\n",
      "memory usage: 135.8+ MB\n"
     ]
    }
   ],
   "source": [
    "# 1.\n",
    "df.dropna(subset = [\"CIP_ENCRIPTADO\"], inplace = True)\n",
    "\n",
    "# 2.\n",
    "df.sort_values(by= \"FECHA_INGRESO\", ascending = True, inplace = True)\n",
    "\n",
    "# 3.\n",
    "df[\"REINGRESO\"] = df[\"CIP_ENCRIPTADO\"].duplicated()\n",
    "df.reset_index(drop = True, inplace  = True)\n",
    "df.info()"
   ]
  },
  {
   "cell_type": "markdown",
   "id": "09d1e06c",
   "metadata": {},
   "source": [
    "#### Tipo de ingreso\n",
    "filtrado a urgencias"
   ]
  },
  {
   "cell_type": "code",
   "execution_count": 7,
   "id": "b25990d0",
   "metadata": {},
   "outputs": [],
   "source": [
    "df = df[df[\"TIPO_INGRESO\"] == \"URGENCIA\"]\n",
    "df.reset_index(drop = True, inplace = True)"
   ]
  },
  {
   "cell_type": "markdown",
   "id": "a5e63323",
   "metadata": {},
   "source": [
    "#### Filtrar por región metropolitana\n",
    "> Para hacer un análisis más acotado. Incluir Provincias de:\n",
    "> > - Santiago\n",
    "> > - Talagante\n",
    "> > - Cordillera\n",
    "> > - Chacabuco\n",
    "> > - Maipo\n",
    "> > - Melipilla"
   ]
  },
  {
   "cell_type": "code",
   "execution_count": 8,
   "id": "398f24d3",
   "metadata": {},
   "outputs": [
    {
     "name": "stdout",
     "output_type": "stream",
     "text": [
      "<class 'pandas.core.frame.DataFrame'>\n",
      "RangeIndex: 174676 entries, 0 to 174675\n",
      "Data columns (total 18 columns):\n",
      " #   Column               Non-Null Count   Dtype         \n",
      "---  ------               --------------   -----         \n",
      " 0   CIP_ENCRIPTADO       174676 non-null  float64       \n",
      " 1   SEXO                 174676 non-null  object        \n",
      " 2   FECHA_NACIMIENTO     174672 non-null  datetime64[ns]\n",
      " 3   SERVICIO_SALUD       174676 non-null  object        \n",
      " 4   TIPO_INGRESO         174676 non-null  object        \n",
      " 5   FECHA_INGRESO        174676 non-null  datetime64[ns]\n",
      " 6   FECHAALTA            174676 non-null  datetime64[ns]\n",
      " 7   TIPOALTA             174676 non-null  object        \n",
      " 8   IR_29301_COD_GRD     174646 non-null  float64       \n",
      " 9   IR_29301_PESO        174646 non-null  float64       \n",
      " 10  IR_29301_SEVERIDAD   174646 non-null  float64       \n",
      " 11  IR_29301_MORTALIDAD  174646 non-null  float64       \n",
      " 12  EDAD                 174672 non-null  float64       \n",
      " 13  DIAS_ESTANCIA        174676 non-null  int64         \n",
      " 14  PROVINCIA            174676 non-null  object        \n",
      " 15  DESCRIPCION1         174663 non-null  object        \n",
      " 16  HOSPITAL             174676 non-null  object        \n",
      " 17  REINGRESO            174676 non-null  bool          \n",
      "dtypes: bool(1), datetime64[ns](3), float64(6), int64(1), object(7)\n",
      "memory usage: 22.8+ MB\n"
     ]
    }
   ],
   "source": [
    "provincias = [\"SANTIAGO\", \"TALAGANTE\", \"CORDILLERA\", \"CHACABUCO\", \"MAIPO\", \"MELIPILLA\"]\n",
    "df = df[df[\"PROVINCIA\"].isin(provincias)]\n",
    "df.reset_index(drop = True, inplace = True)\n",
    "df.info()"
   ]
  },
  {
   "cell_type": "markdown",
   "id": "75fa9788",
   "metadata": {},
   "source": [
    "#### Eliminación de las columans faltantes\n",
    ">Tales como\n",
    "> > - CIP_ENCRIPTADO\n",
    "> > - FECHA_NACIMIENTO\n",
    "> > - TIPO_INGRESO --> solo si filtramos por urgencia\n",
    "> > - PROVINCIA\n",
    "> > - FECHA_INGRESO\n",
    "> > - FECHAALTA\n",
    "> > - TIPOALTA\n",
    "> > - IR_29301_COD_GRD\n",
    "> > - IR_29301_PESO\n",
    "> > - IR_29301_SEVERIDAD\n",
    "> > - IR_29301_MORTALIDAD"
   ]
  },
  {
   "cell_type": "code",
   "execution_count": 9,
   "id": "792e9ab4",
   "metadata": {},
   "outputs": [
    {
     "name": "stdout",
     "output_type": "stream",
     "text": [
      "<class 'pandas.core.frame.DataFrame'>\n",
      "RangeIndex: 174676 entries, 0 to 174675\n",
      "Data columns (total 7 columns):\n",
      " #   Column          Non-Null Count   Dtype  \n",
      "---  ------          --------------   -----  \n",
      " 0   SEXO            174676 non-null  object \n",
      " 1   SERVICIO_SALUD  174676 non-null  object \n",
      " 2   EDAD            174672 non-null  float64\n",
      " 3   DIAS_ESTANCIA   174676 non-null  int64  \n",
      " 4   DESCRIPCION1    174663 non-null  object \n",
      " 5   HOSPITAL        174676 non-null  object \n",
      " 6   REINGRESO       174676 non-null  bool   \n",
      "dtypes: bool(1), float64(1), int64(1), object(4)\n",
      "memory usage: 8.2+ MB\n"
     ]
    }
   ],
   "source": [
    "out = ['CIP_ENCRIPTADO', 'FECHA_NACIMIENTO', 'TIPO_INGRESO', 'PROVINCIA', 'FECHA_INGRESO', 'FECHAALTA', 'TIPOALTA', 'IR_29301_COD_GRD', 'IR_29301_PESO', 'IR_29301_SEVERIDAD', 'IR_29301_MORTALIDAD']\n",
    "\n",
    "df.drop(columns = out, axis = 1, inplace = True)\n",
    "df.info()"
   ]
  },
  {
   "cell_type": "markdown",
   "id": "b065c963",
   "metadata": {},
   "source": [
    "#### Filtrar DIAS_ESTANCIA según recomendación\n",
    "> Es decir, eliminar los outliers de más de 15 días de estancia (y los pacientes sin estancia)"
   ]
  },
  {
   "cell_type": "code",
   "execution_count": 10,
   "id": "4efd2229",
   "metadata": {},
   "outputs": [
    {
     "name": "stdout",
     "output_type": "stream",
     "text": [
      "<class 'pandas.core.frame.DataFrame'>\n",
      "RangeIndex: 138667 entries, 0 to 138666\n",
      "Data columns (total 7 columns):\n",
      " #   Column          Non-Null Count   Dtype  \n",
      "---  ------          --------------   -----  \n",
      " 0   SEXO            138667 non-null  object \n",
      " 1   SERVICIO_SALUD  138667 non-null  object \n",
      " 2   EDAD            138665 non-null  float64\n",
      " 3   DIAS_ESTANCIA   138667 non-null  int64  \n",
      " 4   DESCRIPCION1    138654 non-null  object \n",
      " 5   HOSPITAL        138667 non-null  object \n",
      " 6   REINGRESO       138667 non-null  bool   \n",
      "dtypes: bool(1), float64(1), int64(1), object(4)\n",
      "memory usage: 6.5+ MB\n"
     ]
    }
   ],
   "source": [
    "df = df[(df[\"DIAS_ESTANCIA\"] > 0) & (df[\"DIAS_ESTANCIA\"] <= 15)]\n",
    "df.reset_index(drop = True, inplace = True)\n",
    "df.info()"
   ]
  },
  {
   "cell_type": "markdown",
   "id": "5c7bbb87",
   "metadata": {},
   "source": [
    "#### Manejo de nulos.\n",
    "> Se revisarán los nulos de todas las variables:\n",
    "> > - SEXO\n",
    "> > - SERVICIO_SALUD\n",
    "> > - EDAD\n",
    "> > - DIAS_ESTANCIA\n",
    "> > - DESCRIPCION1\n",
    "> > - HOSPITAL\n",
    "> > - REINGRESO"
   ]
  },
  {
   "cell_type": "code",
   "execution_count": 11,
   "id": "0fbeca47",
   "metadata": {},
   "outputs": [
    {
     "name": "stdout",
     "output_type": "stream",
     "text": [
      "Variable: SEXO\n",
      "Número de nulos: 0\n",
      "Porcentaje de nulos: 0.0%\n",
      "\n",
      "---------------------------------------------------------------------------\n",
      "\n",
      "Variable: SERVICIO_SALUD\n",
      "Número de nulos: 0\n",
      "Porcentaje de nulos: 0.0%\n",
      "\n",
      "---------------------------------------------------------------------------\n",
      "\n",
      "Variable: EDAD\n",
      "Número de nulos: 2\n",
      "Porcentaje de nulos: 0.001%\n",
      "\n",
      "---------------------------------------------------------------------------\n",
      "\n",
      "Variable: DIAS_ESTANCIA\n",
      "Número de nulos: 0\n",
      "Porcentaje de nulos: 0.0%\n",
      "\n",
      "---------------------------------------------------------------------------\n",
      "\n",
      "Variable: DESCRIPCION1\n",
      "Número de nulos: 13\n",
      "Porcentaje de nulos: 0.009%\n",
      "\n",
      "---------------------------------------------------------------------------\n",
      "\n",
      "Variable: HOSPITAL\n",
      "Número de nulos: 0\n",
      "Porcentaje de nulos: 0.0%\n",
      "\n",
      "---------------------------------------------------------------------------\n",
      "\n",
      "Variable: REINGRESO\n",
      "Número de nulos: 0\n",
      "Porcentaje de nulos: 0.0%\n",
      "\n",
      "---------------------------------------------------------------------------\n",
      "\n",
      "Porcentaje acumulado de nulos: 0.009999999999999998%\n"
     ]
    }
   ],
   "source": [
    "var = [\"SEXO\", \"SERVICIO_SALUD\", \"EDAD\", \"DIAS_ESTANCIA\", \"DESCRIPCION1\", \"HOSPITAL\", \"REINGRESO\"]\n",
    "nulos = 0\n",
    "for i in var:\n",
    "    nul = round((df[i].isnull().sum()/len(df))*100, 3)\n",
    "    nulos += nul\n",
    "    print(f'Variable: {i}')\n",
    "    print(f'Número de nulos: {df[i].isnull().sum()}')\n",
    "    print(f'Porcentaje de nulos: {nul}%')\n",
    "    print('\\n---------------------------------------------------------------------------\\n')\n",
    "print(f\"Porcentaje acumulado de nulos: {nulos}%\")\n"
   ]
  },
  {
   "cell_type": "markdown",
   "id": "f8d6c899",
   "metadata": {},
   "source": [
    "Como el porcentaje de nulos es de un 0.01% de los datos, se pueden eliminar sin problema."
   ]
  },
  {
   "cell_type": "code",
   "execution_count": 12,
   "id": "dd430389",
   "metadata": {},
   "outputs": [
    {
     "name": "stdout",
     "output_type": "stream",
     "text": [
      "<class 'pandas.core.frame.DataFrame'>\n",
      "RangeIndex: 138652 entries, 0 to 138651\n",
      "Data columns (total 7 columns):\n",
      " #   Column          Non-Null Count   Dtype  \n",
      "---  ------          --------------   -----  \n",
      " 0   SEXO            138652 non-null  object \n",
      " 1   SERVICIO_SALUD  138652 non-null  object \n",
      " 2   EDAD            138652 non-null  float64\n",
      " 3   DIAS_ESTANCIA   138652 non-null  int64  \n",
      " 4   DESCRIPCION1    138652 non-null  object \n",
      " 5   HOSPITAL        138652 non-null  object \n",
      " 6   REINGRESO       138652 non-null  bool   \n",
      "dtypes: bool(1), float64(1), int64(1), object(4)\n",
      "memory usage: 6.5+ MB\n"
     ]
    }
   ],
   "source": [
    "df.dropna(inplace = True)\n",
    "df.reset_index(drop = True, inplace = True)\n",
    "df.info()"
   ]
  },
  {
   "cell_type": "markdown",
   "id": "1f37fc41",
   "metadata": {},
   "source": [
    "### <p style=\"text-align:center;\"> **Análisis de variables**</p>:\n",
    "\n",
    "Como todas las variables son categóricas, las métricas principales son:\n",
    "> - Frecuencia Absoluta\n",
    "> - Frecuencia Relativa\n",
    "> - Moda\n",
    "> - Cantidad de categorías\n",
    "> - Pie Chart:\n",
    "> > Este útlimo solo si hay <5 categorías. En caso contrario, es ilegible."
   ]
  },
  {
   "cell_type": "markdown",
   "id": "0615b584",
   "metadata": {},
   "source": [
    "#### DESCRIPCION1"
   ]
  },
  {
   "cell_type": "code",
   "execution_count": 18,
   "id": "0e4ed88d",
   "metadata": {},
   "outputs": [
    {
     "data": {
      "text/html": [
       "<div>\n",
       "<style scoped>\n",
       "    .dataframe tbody tr th:only-of-type {\n",
       "        vertical-align: middle;\n",
       "    }\n",
       "\n",
       "    .dataframe tbody tr th {\n",
       "        vertical-align: top;\n",
       "    }\n",
       "\n",
       "    .dataframe thead th {\n",
       "        text-align: right;\n",
       "    }\n",
       "</style>\n",
       "<table border=\"1\" class=\"dataframe\">\n",
       "  <thead>\n",
       "    <tr style=\"text-align: right;\">\n",
       "      <th></th>\n",
       "      <th>Frecuencia Absoluta</th>\n",
       "      <th>Frecuencia Relativa</th>\n",
       "    </tr>\n",
       "    <tr>\n",
       "      <th>DESCRIPCION1</th>\n",
       "      <th></th>\n",
       "      <th></th>\n",
       "    </tr>\n",
       "  </thead>\n",
       "  <tbody>\n",
       "    <tr>\n",
       "      <th>Apendicitis aguda, otra y no especificada</th>\n",
       "      <td>4380</td>\n",
       "      <td>3.158988</td>\n",
       "    </tr>\n",
       "    <tr>\n",
       "      <th>Cálculo de la vesícula biliar con colecistitis aguda</th>\n",
       "      <td>2705</td>\n",
       "      <td>1.950928</td>\n",
       "    </tr>\n",
       "    <tr>\n",
       "      <th>Nefritis tubulointersticial aguda</th>\n",
       "      <td>2451</td>\n",
       "      <td>1.767735</td>\n",
       "    </tr>\n",
       "    <tr>\n",
       "      <th>Neumonía debida a virus sincitial respiratorio</th>\n",
       "      <td>2165</td>\n",
       "      <td>1.561463</td>\n",
       "    </tr>\n",
       "    <tr>\n",
       "      <th>Estado asmático</th>\n",
       "      <td>2134</td>\n",
       "      <td>1.539105</td>\n",
       "    </tr>\n",
       "    <tr>\n",
       "      <th>Neumonía, no especificada</th>\n",
       "      <td>1908</td>\n",
       "      <td>1.376107</td>\n",
       "    </tr>\n",
       "    <tr>\n",
       "      <th>Infección de vías urinarias, sitio no especificado</th>\n",
       "      <td>1882</td>\n",
       "      <td>1.357355</td>\n",
       "    </tr>\n",
       "    <tr>\n",
       "      <th>Neumonía viral, no especificada</th>\n",
       "      <td>1661</td>\n",
       "      <td>1.197963</td>\n",
       "    </tr>\n",
       "    <tr>\n",
       "      <th>Diabetes mellitus tipo 2 con complicaciones  circulatorias periféricas</th>\n",
       "      <td>1640</td>\n",
       "      <td>1.182817</td>\n",
       "    </tr>\n",
       "    <tr>\n",
       "      <th>Insuficiencia cardíaca congestiva</th>\n",
       "      <td>1611</td>\n",
       "      <td>1.161902</td>\n",
       "    </tr>\n",
       "  </tbody>\n",
       "</table>\n",
       "</div>"
      ],
      "text/plain": [
       "                                                    Frecuencia Absoluta  \\\n",
       "DESCRIPCION1                                                              \n",
       "Apendicitis aguda, otra y no especificada                          4380   \n",
       "Cálculo de la vesícula biliar con colecistitis ...                 2705   \n",
       "Nefritis tubulointersticial aguda                                  2451   \n",
       "Neumonía debida a virus sincitial respiratorio                     2165   \n",
       "Estado asmático                                                    2134   \n",
       "Neumonía, no especificada                                          1908   \n",
       "Infección de vías urinarias, sitio no especificado                 1882   \n",
       "Neumonía viral, no especificada                                    1661   \n",
       "Diabetes mellitus tipo 2 con complicaciones  ci...                 1640   \n",
       "Insuficiencia cardíaca congestiva                                  1611   \n",
       "\n",
       "                                                    Frecuencia Relativa  \n",
       "DESCRIPCION1                                                             \n",
       "Apendicitis aguda, otra y no especificada                      3.158988  \n",
       "Cálculo de la vesícula biliar con colecistitis ...             1.950928  \n",
       "Nefritis tubulointersticial aguda                              1.767735  \n",
       "Neumonía debida a virus sincitial respiratorio                 1.561463  \n",
       "Estado asmático                                                1.539105  \n",
       "Neumonía, no especificada                                      1.376107  \n",
       "Infección de vías urinarias, sitio no especificado             1.357355  \n",
       "Neumonía viral, no especificada                                1.197963  \n",
       "Diabetes mellitus tipo 2 con complicaciones  ci...             1.182817  \n",
       "Insuficiencia cardíaca congestiva                              1.161902  "
      ]
     },
     "metadata": {},
     "output_type": "display_data"
    },
    {
     "name": "stdout",
     "output_type": "stream",
     "text": [
      "n°Categorías: 4115\n",
      "Moda:         Apendicitis aguda, otra y no especificada\n"
     ]
    }
   ],
   "source": [
    "medidas = df.groupby(\"DESCRIPCION1\")[\"DESCRIPCION1\"].count().to_frame(name = \"Frecuencia Absoluta\").sort_values(by = \"Frecuencia Absoluta\", ascending = False)\n",
    "medidas[\"Frecuencia Relativa\"] = medidas[\"Frecuencia Absoluta\"]*100 / sum(medidas[\"Frecuencia Absoluta\"])\n",
    "display(medidas.head(10))\n",
    "print(f'n°Categorías: {len(medidas)}')\n",
    "print(f'Moda:         {medidas.index[0]}')"
   ]
  },
  {
   "cell_type": "markdown",
   "id": "6724a7bc",
   "metadata": {},
   "source": [
    "#### Hospitales"
   ]
  },
  {
   "cell_type": "code",
   "execution_count": 19,
   "id": "453f5a2e",
   "metadata": {},
   "outputs": [
    {
     "data": {
      "text/html": [
       "<div>\n",
       "<style scoped>\n",
       "    .dataframe tbody tr th:only-of-type {\n",
       "        vertical-align: middle;\n",
       "    }\n",
       "\n",
       "    .dataframe tbody tr th {\n",
       "        vertical-align: top;\n",
       "    }\n",
       "\n",
       "    .dataframe thead th {\n",
       "        text-align: right;\n",
       "    }\n",
       "</style>\n",
       "<table border=\"1\" class=\"dataframe\">\n",
       "  <thead>\n",
       "    <tr style=\"text-align: right;\">\n",
       "      <th></th>\n",
       "      <th>Frecuencia Absoluta</th>\n",
       "      <th>Frecuencia Relativa</th>\n",
       "    </tr>\n",
       "    <tr>\n",
       "      <th>HOSPITAL</th>\n",
       "      <th></th>\n",
       "      <th></th>\n",
       "    </tr>\n",
       "  </thead>\n",
       "  <tbody>\n",
       "    <tr>\n",
       "      <th>Complejo Hospitalario Dr. Sótero del Río (Santiago, Puente Alto)</th>\n",
       "      <td>17976</td>\n",
       "      <td>12.964833</td>\n",
       "    </tr>\n",
       "    <tr>\n",
       "      <th>Hospital Dr. Félix Bulnes Cerda (Santiago, Quinta Normal)</th>\n",
       "      <td>11181</td>\n",
       "      <td>8.064074</td>\n",
       "    </tr>\n",
       "    <tr>\n",
       "      <th>Hospital Barros Luco Trudeau (Santiago, San Miguel)</th>\n",
       "      <td>10275</td>\n",
       "      <td>7.410640</td>\n",
       "    </tr>\n",
       "    <tr>\n",
       "      <th>Hospital Clínico Metropolitano El Carmen Doctor Luis Valentín Ferrada</th>\n",
       "      <td>9877</td>\n",
       "      <td>7.123590</td>\n",
       "    </tr>\n",
       "    <tr>\n",
       "      <th>Complejo Hospitalario San José (Santiago, Independencia)</th>\n",
       "      <td>8270</td>\n",
       "      <td>5.964573</td>\n",
       "    </tr>\n",
       "    <tr>\n",
       "      <th>Hospital de Urgencia Asistencia Pública Dr. Alejandro del Río</th>\n",
       "      <td>7842</td>\n",
       "      <td>5.655887</td>\n",
       "    </tr>\n",
       "    <tr>\n",
       "      <th>Hospital Clínico Metropolitano La Florida Dra. Eloisa Díaz Inzunza</th>\n",
       "      <td>7804</td>\n",
       "      <td>5.628480</td>\n",
       "    </tr>\n",
       "    <tr>\n",
       "      <th>Hospital San Juan de Dios (Santiago, Santiago)</th>\n",
       "      <td>7564</td>\n",
       "      <td>5.455385</td>\n",
       "    </tr>\n",
       "    <tr>\n",
       "      <th>Hospital Padre Alberto Hurtado (San Ramón)</th>\n",
       "      <td>7202</td>\n",
       "      <td>5.194299</td>\n",
       "    </tr>\n",
       "    <tr>\n",
       "      <th>Hospital El Pino (Santiago, San Bernardo)</th>\n",
       "      <td>6727</td>\n",
       "      <td>4.851715</td>\n",
       "    </tr>\n",
       "  </tbody>\n",
       "</table>\n",
       "</div>"
      ],
      "text/plain": [
       "                                                    Frecuencia Absoluta  \\\n",
       "HOSPITAL                                                                  \n",
       "Complejo Hospitalario Dr. Sótero del Río (Santi...                17976   \n",
       "Hospital Dr. Félix Bulnes Cerda (Santiago, Quin...                11181   \n",
       "Hospital Barros Luco Trudeau (Santiago, San Mig...                10275   \n",
       "Hospital Clínico Metropolitano El Carmen Doctor...                 9877   \n",
       "Complejo Hospitalario San José (Santiago, Indep...                 8270   \n",
       "Hospital de Urgencia Asistencia Pública Dr. Ale...                 7842   \n",
       "Hospital Clínico Metropolitano La Florida Dra. ...                 7804   \n",
       "Hospital San Juan de Dios (Santiago, Santiago)                     7564   \n",
       "Hospital Padre Alberto Hurtado (San Ramón)                         7202   \n",
       "Hospital El Pino (Santiago, San Bernardo)                          6727   \n",
       "\n",
       "                                                    Frecuencia Relativa  \n",
       "HOSPITAL                                                                 \n",
       "Complejo Hospitalario Dr. Sótero del Río (Santi...            12.964833  \n",
       "Hospital Dr. Félix Bulnes Cerda (Santiago, Quin...             8.064074  \n",
       "Hospital Barros Luco Trudeau (Santiago, San Mig...             7.410640  \n",
       "Hospital Clínico Metropolitano El Carmen Doctor...             7.123590  \n",
       "Complejo Hospitalario San José (Santiago, Indep...             5.964573  \n",
       "Hospital de Urgencia Asistencia Pública Dr. Ale...             5.655887  \n",
       "Hospital Clínico Metropolitano La Florida Dra. ...             5.628480  \n",
       "Hospital San Juan de Dios (Santiago, Santiago)                 5.455385  \n",
       "Hospital Padre Alberto Hurtado (San Ramón)                     5.194299  \n",
       "Hospital El Pino (Santiago, San Bernardo)                      4.851715  "
      ]
     },
     "metadata": {},
     "output_type": "display_data"
    },
    {
     "name": "stdout",
     "output_type": "stream",
     "text": [
      "n°Categorías: 67\n",
      "Moda:          Complejo Hospitalario Dr. Sótero del Río (Santiago, Puente Alto)\n"
     ]
    }
   ],
   "source": [
    "medidas = df.groupby(\"HOSPITAL\")[\"HOSPITAL\"].count().to_frame(name = \"Frecuencia Absoluta\").sort_values(by = \"Frecuencia Absoluta\", ascending = False)\n",
    "medidas[\"Frecuencia Relativa\"] = medidas[\"Frecuencia Absoluta\"]*100 / sum(medidas[\"Frecuencia Absoluta\"])\n",
    "display(medidas.head(10))\n",
    "print(f'n°Categorías: {len(medidas)}')\n",
    "print(f'Moda:         {medidas.index[0]}')"
   ]
  },
  {
   "cell_type": "markdown",
   "id": "942b6dce",
   "metadata": {},
   "source": [
    "####"
   ]
  },
  {
   "cell_type": "code",
   "execution_count": null,
   "id": "72286b3c",
   "metadata": {},
   "outputs": [],
   "source": []
  }
 ],
 "metadata": {
  "kernelspec": {
   "display_name": "Python 3",
   "language": "python",
   "name": "python3"
  },
  "language_info": {
   "codemirror_mode": {
    "name": "ipython",
    "version": 3
   },
   "file_extension": ".py",
   "mimetype": "text/x-python",
   "name": "python",
   "nbconvert_exporter": "python",
   "pygments_lexer": "ipython3",
   "version": "3.13.3"
  }
 },
 "nbformat": 4,
 "nbformat_minor": 5
}
